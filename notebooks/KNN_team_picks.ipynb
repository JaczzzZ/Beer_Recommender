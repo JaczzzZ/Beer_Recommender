{
 "cells": [
  {
   "cell_type": "code",
   "execution_count": 1,
   "metadata": {},
   "outputs": [
    {
     "data": {
      "application/javascript": "\n            setTimeout(function() {\n                var nbb_cell_id = 1;\n                var nbb_unformatted_code = \"%load_ext nb_black\";\n                var nbb_formatted_code = \"%load_ext nb_black\";\n                var nbb_cells = Jupyter.notebook.get_cells();\n                for (var i = 0; i < nbb_cells.length; ++i) {\n                    if (nbb_cells[i].input_prompt_number == nbb_cell_id) {\n                        if (nbb_cells[i].get_text() == nbb_unformatted_code) {\n                             nbb_cells[i].set_text(nbb_formatted_code);\n                        }\n                        break;\n                    }\n                }\n            }, 500);\n            ",
      "text/plain": [
       "<IPython.core.display.Javascript object>"
      ]
     },
     "metadata": {},
     "output_type": "display_data"
    }
   ],
   "source": [
    "%load_ext nb_black"
   ]
  },
  {
   "cell_type": "code",
   "execution_count": 2,
   "metadata": {},
   "outputs": [
    {
     "data": {
      "application/javascript": "\n            setTimeout(function() {\n                var nbb_cell_id = 2;\n                var nbb_unformatted_code = \"import os\\nimport pandas as pd\\nimport numpy as np\\nimport matplotlib.pyplot as plt\\nimport pandas as pd\\nfrom surprise import Dataset\\nfrom surprise import Reader\\nfrom surprise.model_selection import cross_validate\\nfrom surprise import KNNBasic\\nfrom surprise.model_selection import train_test_split\\nfrom surprise import dump\\nimport csv\\nfrom surprise import accuracy\\nfrom pprint import pprint\";\n                var nbb_formatted_code = \"import os\\nimport pandas as pd\\nimport numpy as np\\nimport matplotlib.pyplot as plt\\nimport pandas as pd\\nfrom surprise import Dataset\\nfrom surprise import Reader\\nfrom surprise.model_selection import cross_validate\\nfrom surprise import KNNBasic\\nfrom surprise.model_selection import train_test_split\\nfrom surprise import dump\\nimport csv\\nfrom surprise import accuracy\\nfrom pprint import pprint\";\n                var nbb_cells = Jupyter.notebook.get_cells();\n                for (var i = 0; i < nbb_cells.length; ++i) {\n                    if (nbb_cells[i].input_prompt_number == nbb_cell_id) {\n                        if (nbb_cells[i].get_text() == nbb_unformatted_code) {\n                             nbb_cells[i].set_text(nbb_formatted_code);\n                        }\n                        break;\n                    }\n                }\n            }, 500);\n            ",
      "text/plain": [
       "<IPython.core.display.Javascript object>"
      ]
     },
     "metadata": {},
     "output_type": "display_data"
    }
   ],
   "source": [
    "import os\n",
    "import pandas as pd\n",
    "import numpy as np\n",
    "import matplotlib.pyplot as plt\n",
    "import pandas as pd\n",
    "from surprise import Dataset\n",
    "from surprise import Reader\n",
    "from surprise.model_selection import cross_validate\n",
    "from surprise import KNNBasic\n",
    "from surprise.model_selection import train_test_split\n",
    "from surprise import dump\n",
    "import csv\n",
    "from surprise import accuracy\n",
    "from pprint import pprint"
   ]
  },
  {
   "cell_type": "code",
   "execution_count": 3,
   "metadata": {},
   "outputs": [
    {
     "data": {
      "application/javascript": "\n            setTimeout(function() {\n                var nbb_cell_id = 3;\n                var nbb_unformatted_code = \"csv_path = os.path.join(\\\"../data/csv/reviews_cleaned_reduced_500.csv\\\")\\nTextFileReader = pd.read_csv(csv_path, chunksize=1000)  # the number of rows per chunk\\n\\ndfList = []\\nfor df in TextFileReader:\\n    dfList.append(df)\\n\\ndf = pd.concat(dfList,sort=False)\";\n                var nbb_formatted_code = \"csv_path = os.path.join(\\\"../data/csv/reviews_cleaned_reduced_500.csv\\\")\\nTextFileReader = pd.read_csv(csv_path, chunksize=1000)  # the number of rows per chunk\\n\\ndfList = []\\nfor df in TextFileReader:\\n    dfList.append(df)\\n\\ndf = pd.concat(dfList, sort=False)\";\n                var nbb_cells = Jupyter.notebook.get_cells();\n                for (var i = 0; i < nbb_cells.length; ++i) {\n                    if (nbb_cells[i].input_prompt_number == nbb_cell_id) {\n                        if (nbb_cells[i].get_text() == nbb_unformatted_code) {\n                             nbb_cells[i].set_text(nbb_formatted_code);\n                        }\n                        break;\n                    }\n                }\n            }, 500);\n            ",
      "text/plain": [
       "<IPython.core.display.Javascript object>"
      ]
     },
     "metadata": {},
     "output_type": "display_data"
    }
   ],
   "source": [
    "csv_path = os.path.join(\"../data/csv/reviews_cleaned_reduced_500.csv\")\n",
    "TextFileReader = pd.read_csv(csv_path, chunksize=1000)  # the number of rows per chunk\n",
    "\n",
    "dfList = []\n",
    "for df in TextFileReader:\n",
    "    dfList.append(df)\n",
    "\n",
    "df = pd.concat(dfList,sort=False)"
   ]
  },
  {
   "cell_type": "code",
   "execution_count": 4,
   "metadata": {},
   "outputs": [
    {
     "data": {
      "application/javascript": "\n            setTimeout(function() {\n                var nbb_cell_id = 4;\n                var nbb_unformatted_code = \"# load beers\\ncsv_path = os.path.join(\\\"../data/csv/beers.csv\\\")\\nbeers_df = pd.read_csv(csv_path)\\nbeers_df = beers_df.rename(columns={'id': 'beer_id'})\";\n                var nbb_formatted_code = \"# load beers\\ncsv_path = os.path.join(\\\"../data/csv/beers.csv\\\")\\nbeers_df = pd.read_csv(csv_path)\\nbeers_df = beers_df.rename(columns={\\\"id\\\": \\\"beer_id\\\"})\";\n                var nbb_cells = Jupyter.notebook.get_cells();\n                for (var i = 0; i < nbb_cells.length; ++i) {\n                    if (nbb_cells[i].input_prompt_number == nbb_cell_id) {\n                        if (nbb_cells[i].get_text() == nbb_unformatted_code) {\n                             nbb_cells[i].set_text(nbb_formatted_code);\n                        }\n                        break;\n                    }\n                }\n            }, 500);\n            ",
      "text/plain": [
       "<IPython.core.display.Javascript object>"
      ]
     },
     "metadata": {},
     "output_type": "display_data"
    }
   ],
   "source": [
    "# load beers\n",
    "csv_path = os.path.join(\"../data/csv/beers.csv\")\n",
    "beers_df = pd.read_csv(csv_path)\n",
    "beers_df = beers_df.rename(columns={'id': 'beer_id'})"
   ]
  },
  {
   "cell_type": "code",
   "execution_count": 5,
   "metadata": {},
   "outputs": [
    {
     "data": {
      "application/javascript": "\n            setTimeout(function() {\n                var nbb_cell_id = 5;\n                var nbb_unformatted_code = \"# Lets combine the dataframe\\nmerge_df = pd.merge(df,\\n                 beers_df[['beer_id', 'name', 'style', 'brewery_id']],\\n                 on='beer_id')\";\n                var nbb_formatted_code = \"# Lets combine the dataframe\\nmerge_df = pd.merge(\\n    df, beers_df[[\\\"beer_id\\\", \\\"name\\\", \\\"style\\\", \\\"brewery_id\\\"]], on=\\\"beer_id\\\"\\n)\";\n                var nbb_cells = Jupyter.notebook.get_cells();\n                for (var i = 0; i < nbb_cells.length; ++i) {\n                    if (nbb_cells[i].input_prompt_number == nbb_cell_id) {\n                        if (nbb_cells[i].get_text() == nbb_unformatted_code) {\n                             nbb_cells[i].set_text(nbb_formatted_code);\n                        }\n                        break;\n                    }\n                }\n            }, 500);\n            ",
      "text/plain": [
       "<IPython.core.display.Javascript object>"
      ]
     },
     "metadata": {},
     "output_type": "display_data"
    }
   ],
   "source": [
    "# Lets combine the dataframe\n",
    "merge_df = pd.merge(df,\n",
    "                 beers_df[['beer_id', 'name', 'style', 'brewery_id']],\n",
    "                 on='beer_id')"
   ]
  },
  {
   "cell_type": "code",
   "execution_count": 6,
   "metadata": {},
   "outputs": [
    {
     "name": "stdout",
     "output_type": "stream",
     "text": [
      "Estimating biases using als...\n",
      "Computing the pearson_baseline similarity matrix...\n",
      "Done computing similarity matrix.\n",
      "Estimating biases using als...\n",
      "Computing the pearson_baseline similarity matrix...\n",
      "Done computing similarity matrix.\n",
      "RMSE: 0.4679\n",
      "MAE:  0.3381\n"
     ]
    },
    {
     "data": {
      "text/plain": [
       "0.33811812972737976"
      ]
     },
     "execution_count": 6,
     "metadata": {},
     "output_type": "execute_result"
    },
    {
     "data": {
      "application/javascript": "\n            setTimeout(function() {\n                var nbb_cell_id = 6;\n                var nbb_unformatted_code = \"# sample random trainset and testset method using Pearson similarity\\n# test set is made of 25% of the ratings. we are looking at similarities between items (user_based=false)\\nreader=Reader(rating_scale=(0,5))\\ndata = Dataset.load_from_df(merge_df[['username', 'beer_id', 'score']], reader)\\n\\ntrainset, testset = train_test_split(data, test_size=.25)\\n\\nsim_options = {'name': 'pearson_baseline',\\n               'user_based': False\\n               }\\n\\n# We'll use KNN.\\nalgo = KNNBasic(min_k = 10, sim_options=sim_options)\\n\\n# Train the algorithm on the trainset, and predict ratings for the testset\\nalgo.fit(trainset)\\npredictions = algo.fit(trainset).test(testset)\\n\\n# Then compute RMSE\\naccuracy.rmse(predictions)\\naccuracy.mae(predictions)\";\n                var nbb_formatted_code = \"# sample random trainset and testset method using Pearson similarity\\n# test set is made of 25% of the ratings. we are looking at similarities between items (user_based=false)\\nreader = Reader(rating_scale=(0, 5))\\ndata = Dataset.load_from_df(merge_df[[\\\"username\\\", \\\"beer_id\\\", \\\"score\\\"]], reader)\\n\\ntrainset, testset = train_test_split(data, test_size=0.25)\\n\\nsim_options = {\\\"name\\\": \\\"pearson_baseline\\\", \\\"user_based\\\": False}\\n\\n# We'll use KNN.\\nalgo = KNNBasic(min_k=10, sim_options=sim_options)\\n\\n# Train the algorithm on the trainset, and predict ratings for the testset\\nalgo.fit(trainset)\\npredictions = algo.fit(trainset).test(testset)\\n\\n# Then compute RMSE\\naccuracy.rmse(predictions)\\naccuracy.mae(predictions)\";\n                var nbb_cells = Jupyter.notebook.get_cells();\n                for (var i = 0; i < nbb_cells.length; ++i) {\n                    if (nbb_cells[i].input_prompt_number == nbb_cell_id) {\n                        if (nbb_cells[i].get_text() == nbb_unformatted_code) {\n                             nbb_cells[i].set_text(nbb_formatted_code);\n                        }\n                        break;\n                    }\n                }\n            }, 500);\n            ",
      "text/plain": [
       "<IPython.core.display.Javascript object>"
      ]
     },
     "metadata": {},
     "output_type": "display_data"
    }
   ],
   "source": [
    "# sample random trainset and testset method using Pearson similarity\n",
    "# test set is made of 25% of the ratings. we are looking at similarities between items (user_based=false)\n",
    "reader=Reader(rating_scale=(0,5))\n",
    "data = Dataset.load_from_df(merge_df[['username', 'beer_id', 'score']], reader)\n",
    "\n",
    "trainset, testset = train_test_split(data, test_size=.25)\n",
    "\n",
    "sim_options = {'name': 'pearson_baseline',\n",
    "               'user_based': False\n",
    "               }\n",
    "\n",
    "# We'll use KNN.\n",
    "algo = KNNBasic(min_k = 10, sim_options=sim_options)\n",
    "\n",
    "# Train the algorithm on the trainset, and predict ratings for the testset\n",
    "algo.fit(trainset)\n",
    "predictions = algo.fit(trainset).test(testset)\n",
    "\n",
    "# Then compute RMSE\n",
    "accuracy.rmse(predictions)\n",
    "accuracy.mae(predictions)"
   ]
  },
  {
   "cell_type": "code",
   "execution_count": 7,
   "metadata": {},
   "outputs": [
    {
     "data": {
      "application/javascript": "\n            setTimeout(function() {\n                var nbb_cell_id = 7;\n                var nbb_unformatted_code = \"# Lets serialize and save this prediction algorithm\\n# Dump algorithm and reload it\\ndumpfile = os.path.join('../data/dump/dump_knn_dump_file1')\\ndump.dump(dumpfile, predictions, algo)\";\n                var nbb_formatted_code = \"# Lets serialize and save this prediction algorithm\\n# Dump algorithm and reload it\\ndumpfile = os.path.join(\\\"../data/dump/dump_knn_dump_file1\\\")\\ndump.dump(dumpfile, predictions, algo)\";\n                var nbb_cells = Jupyter.notebook.get_cells();\n                for (var i = 0; i < nbb_cells.length; ++i) {\n                    if (nbb_cells[i].input_prompt_number == nbb_cell_id) {\n                        if (nbb_cells[i].get_text() == nbb_unformatted_code) {\n                             nbb_cells[i].set_text(nbb_formatted_code);\n                        }\n                        break;\n                    }\n                }\n            }, 500);\n            ",
      "text/plain": [
       "<IPython.core.display.Javascript object>"
      ]
     },
     "metadata": {},
     "output_type": "display_data"
    }
   ],
   "source": [
    "# Lets serialize and save this prediction algorithm\n",
    "# Dump algorithm and reload it\n",
    "dumpfile = os.path.join('../data/dump/dump_knn_dump_file1')\n",
    "dump.dump(dumpfile, predictions, algo)"
   ]
  }
 ],
 "metadata": {
  "kernelspec": {
   "display_name": "base",
   "language": "python",
   "name": "python3"
  },
  "language_info": {
   "codemirror_mode": {
    "name": "ipython",
    "version": 3
   },
   "file_extension": ".py",
   "mimetype": "text/x-python",
   "name": "python",
   "nbconvert_exporter": "python",
   "pygments_lexer": "ipython3",
   "version": "3.9.12"
  }
 },
 "nbformat": 4,
 "nbformat_minor": 2
}
