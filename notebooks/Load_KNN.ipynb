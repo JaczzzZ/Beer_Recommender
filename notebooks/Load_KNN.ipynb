{
 "cells": [
  {
   "cell_type": "code",
   "execution_count": 1,
   "metadata": {},
   "outputs": [
    {
     "data": {
      "application/javascript": "\n            setTimeout(function() {\n                var nbb_cell_id = 1;\n                var nbb_unformatted_code = \"%load_ext nb_black\";\n                var nbb_formatted_code = \"%load_ext nb_black\";\n                var nbb_cells = Jupyter.notebook.get_cells();\n                for (var i = 0; i < nbb_cells.length; ++i) {\n                    if (nbb_cells[i].input_prompt_number == nbb_cell_id) {\n                        if (nbb_cells[i].get_text() == nbb_unformatted_code) {\n                             nbb_cells[i].set_text(nbb_formatted_code);\n                        }\n                        break;\n                    }\n                }\n            }, 500);\n            ",
      "text/plain": [
       "<IPython.core.display.Javascript object>"
      ]
     },
     "metadata": {},
     "output_type": "display_data"
    }
   ],
   "source": [
    "%load_ext nb_black"
   ]
  },
  {
   "cell_type": "code",
   "execution_count": 2,
   "metadata": {},
   "outputs": [
    {
     "data": {
      "application/javascript": "\n            setTimeout(function() {\n                var nbb_cell_id = 2;\n                var nbb_unformatted_code = \"import os\\nimport pandas as pd\\nimport numpy as np\\nimport matplotlib.pyplot as plt\\nimport pandas as pd\\nfrom surprise import Dataset\\nfrom surprise import Reader\\nfrom surprise.model_selection import cross_validate\\nfrom surprise import KNNBasic\\nfrom surprise.model_selection import train_test_split\\nfrom surprise import dump\\nimport csv\\nfrom surprise import accuracy\";\n                var nbb_formatted_code = \"import os\\nimport pandas as pd\\nimport numpy as np\\nimport matplotlib.pyplot as plt\\nimport pandas as pd\\nfrom surprise import Dataset\\nfrom surprise import Reader\\nfrom surprise.model_selection import cross_validate\\nfrom surprise import KNNBasic\\nfrom surprise.model_selection import train_test_split\\nfrom surprise import dump\\nimport csv\\nfrom surprise import accuracy\";\n                var nbb_cells = Jupyter.notebook.get_cells();\n                for (var i = 0; i < nbb_cells.length; ++i) {\n                    if (nbb_cells[i].input_prompt_number == nbb_cell_id) {\n                        if (nbb_cells[i].get_text() == nbb_unformatted_code) {\n                             nbb_cells[i].set_text(nbb_formatted_code);\n                        }\n                        break;\n                    }\n                }\n            }, 500);\n            ",
      "text/plain": [
       "<IPython.core.display.Javascript object>"
      ]
     },
     "metadata": {},
     "output_type": "display_data"
    }
   ],
   "source": [
    "import os\n",
    "import pandas as pd\n",
    "import numpy as np\n",
    "import matplotlib.pyplot as plt\n",
    "import pandas as pd\n",
    "from surprise import Dataset\n",
    "from surprise import Reader\n",
    "from surprise.model_selection import cross_validate\n",
    "from surprise import KNNBasic\n",
    "from surprise.model_selection import train_test_split\n",
    "from surprise import dump\n",
    "import csv\n",
    "from surprise import accuracy"
   ]
  },
  {
   "cell_type": "code",
   "execution_count": 3,
   "metadata": {},
   "outputs": [
    {
     "data": {
      "application/javascript": "\n            setTimeout(function() {\n                var nbb_cell_id = 3;\n                var nbb_unformatted_code = \"# Path to dump file and name\\ndumpfile = os.path.join('../data/dump/dump_knn_dump_file1')\\nbreweries_path = os.path.join('../data/csv/breweries.csv')\\n\\nbeer_pickel_path = os.path.join('../data/dump/beer.pkl')\";\n                var nbb_formatted_code = \"# Path to dump file and name\\ndumpfile = os.path.join(\\\"../data/dump/dump_knn_dump_file1\\\")\\nbreweries_path = os.path.join(\\\"../data/csv/breweries.csv\\\")\\n\\nbeer_pickel_path = os.path.join(\\\"../data/dump/beer.pkl\\\")\";\n                var nbb_cells = Jupyter.notebook.get_cells();\n                for (var i = 0; i < nbb_cells.length; ++i) {\n                    if (nbb_cells[i].input_prompt_number == nbb_cell_id) {\n                        if (nbb_cells[i].get_text() == nbb_unformatted_code) {\n                             nbb_cells[i].set_text(nbb_formatted_code);\n                        }\n                        break;\n                    }\n                }\n            }, 500);\n            ",
      "text/plain": [
       "<IPython.core.display.Javascript object>"
      ]
     },
     "metadata": {},
     "output_type": "display_data"
    }
   ],
   "source": [
    "# Path to dump file and name\n",
    "dumpfile = os.path.join('../data/dump/dump_knn_dump_file1')\n",
    "breweries_path = os.path.join('../data/csv/breweries.csv')\n",
    "\n",
    "beer_pickel_path = os.path.join('../data/dump/beer.pkl')"
   ]
  },
  {
   "cell_type": "code",
   "execution_count": 4,
   "metadata": {},
   "outputs": [
    {
     "data": {
      "application/javascript": "\n            setTimeout(function() {\n                var nbb_cell_id = 4;\n                var nbb_unformatted_code = \"# Lets load our dump files\\npredictions,algo = dump.load(dumpfile)\\nbreweries_df = pd.read_csv(breweries_path)\\nbreweries_df=breweries_df.rename(columns = {'id':'brewery_id', 'name':'brewery_name'})\\nbeers_df = pd.read_pickle(beer_pickel_path)\";\n                var nbb_formatted_code = \"# Lets load our dump files\\npredictions, algo = dump.load(dumpfile)\\nbreweries_df = pd.read_csv(breweries_path)\\nbreweries_df = breweries_df.rename(columns={\\\"id\\\": \\\"brewery_id\\\", \\\"name\\\": \\\"brewery_name\\\"})\\nbeers_df = pd.read_pickle(beer_pickel_path)\";\n                var nbb_cells = Jupyter.notebook.get_cells();\n                for (var i = 0; i < nbb_cells.length; ++i) {\n                    if (nbb_cells[i].input_prompt_number == nbb_cell_id) {\n                        if (nbb_cells[i].get_text() == nbb_unformatted_code) {\n                             nbb_cells[i].set_text(nbb_formatted_code);\n                        }\n                        break;\n                    }\n                }\n            }, 500);\n            ",
      "text/plain": [
       "<IPython.core.display.Javascript object>"
      ]
     },
     "metadata": {},
     "output_type": "display_data"
    }
   ],
   "source": [
    "# Lets load our dump files\n",
    "predictions,algo = dump.load(dumpfile)\n",
    "breweries_df = pd.read_csv(breweries_path)\n",
    "breweries_df=breweries_df.rename(columns = {'id':'brewery_id', 'name':'brewery_name'})\n",
    "beers_df = pd.read_pickle(beer_pickel_path)"
   ]
  },
  {
   "cell_type": "code",
   "execution_count": 5,
   "metadata": {},
   "outputs": [
    {
     "data": {
      "application/javascript": "\n            setTimeout(function() {\n                var nbb_cell_id = 5;\n                var nbb_unformatted_code = \"beers_df = pd.merge(beers_df, breweries_df, on='brewery_id')\";\n                var nbb_formatted_code = \"beers_df = pd.merge(beers_df, breweries_df, on=\\\"brewery_id\\\")\";\n                var nbb_cells = Jupyter.notebook.get_cells();\n                for (var i = 0; i < nbb_cells.length; ++i) {\n                    if (nbb_cells[i].input_prompt_number == nbb_cell_id) {\n                        if (nbb_cells[i].get_text() == nbb_unformatted_code) {\n                             nbb_cells[i].set_text(nbb_formatted_code);\n                        }\n                        break;\n                    }\n                }\n            }, 500);\n            ",
      "text/plain": [
       "<IPython.core.display.Javascript object>"
      ]
     },
     "metadata": {},
     "output_type": "display_data"
    }
   ],
   "source": [
    "beers_df = pd.merge(beers_df, breweries_df, on='brewery_id')"
   ]
  },
  {
   "cell_type": "code",
   "execution_count": 6,
   "metadata": {},
   "outputs": [
    {
     "data": {
      "application/javascript": "\n            setTimeout(function() {\n                var nbb_cell_id = 6;\n                var nbb_unformatted_code = \"beers_df = beers_df.drop(['notes', 'types', 'inner_ids'], axis=1)\";\n                var nbb_formatted_code = \"beers_df = beers_df.drop([\\\"notes\\\", \\\"types\\\", \\\"inner_ids\\\"], axis=1)\";\n                var nbb_cells = Jupyter.notebook.get_cells();\n                for (var i = 0; i < nbb_cells.length; ++i) {\n                    if (nbb_cells[i].input_prompt_number == nbb_cell_id) {\n                        if (nbb_cells[i].get_text() == nbb_unformatted_code) {\n                             nbb_cells[i].set_text(nbb_formatted_code);\n                        }\n                        break;\n                    }\n                }\n            }, 500);\n            ",
      "text/plain": [
       "<IPython.core.display.Javascript object>"
      ]
     },
     "metadata": {},
     "output_type": "display_data"
    }
   ],
   "source": [
    "beers_df = beers_df.drop(['notes', 'types', 'inner_ids'], axis=1)"
   ]
  },
  {
   "cell_type": "code",
   "execution_count": 7,
   "metadata": {},
   "outputs": [
    {
     "data": {
      "text/html": [
       "<div>\n",
       "<style scoped>\n",
       "    .dataframe tbody tr th:only-of-type {\n",
       "        vertical-align: middle;\n",
       "    }\n",
       "\n",
       "    .dataframe tbody tr th {\n",
       "        vertical-align: top;\n",
       "    }\n",
       "\n",
       "    .dataframe thead th {\n",
       "        text-align: right;\n",
       "    }\n",
       "</style>\n",
       "<table border=\"1\" class=\"dataframe\">\n",
       "  <thead>\n",
       "    <tr style=\"text-align: right;\">\n",
       "      <th></th>\n",
       "      <th>beer_id</th>\n",
       "      <th>score</th>\n",
       "      <th>name</th>\n",
       "      <th>style</th>\n",
       "      <th>brewery_id</th>\n",
       "      <th>brewery_name</th>\n",
       "      <th>city</th>\n",
       "      <th>state</th>\n",
       "      <th>country</th>\n",
       "    </tr>\n",
       "  </thead>\n",
       "  <tbody>\n",
       "    <tr>\n",
       "      <th>0</th>\n",
       "      <td>5</td>\n",
       "      <td>3.387036</td>\n",
       "      <td>Amber</td>\n",
       "      <td>Vienna Lager</td>\n",
       "      <td>3</td>\n",
       "      <td>Abita Brewing Co.</td>\n",
       "      <td>Abita Springs</td>\n",
       "      <td>LA</td>\n",
       "      <td>US</td>\n",
       "    </tr>\n",
       "    <tr>\n",
       "      <th>1</th>\n",
       "      <td>6</td>\n",
       "      <td>3.627604</td>\n",
       "      <td>Turbodog</td>\n",
       "      <td>English Brown Ale</td>\n",
       "      <td>3</td>\n",
       "      <td>Abita Brewing Co.</td>\n",
       "      <td>Abita Springs</td>\n",
       "      <td>LA</td>\n",
       "      <td>US</td>\n",
       "    </tr>\n",
       "    <tr>\n",
       "      <th>2</th>\n",
       "      <td>7</td>\n",
       "      <td>3.187646</td>\n",
       "      <td>Purple Haze</td>\n",
       "      <td>Fruit and Field Beer</td>\n",
       "      <td>3</td>\n",
       "      <td>Abita Brewing Co.</td>\n",
       "      <td>Abita Springs</td>\n",
       "      <td>LA</td>\n",
       "      <td>US</td>\n",
       "    </tr>\n",
       "    <tr>\n",
       "      <th>3</th>\n",
       "      <td>1565</td>\n",
       "      <td>3.516667</td>\n",
       "      <td>Andygator</td>\n",
       "      <td>German Maibock</td>\n",
       "      <td>3</td>\n",
       "      <td>Abita Brewing Co.</td>\n",
       "      <td>Abita Springs</td>\n",
       "      <td>LA</td>\n",
       "      <td>US</td>\n",
       "    </tr>\n",
       "    <tr>\n",
       "      <th>4</th>\n",
       "      <td>39390</td>\n",
       "      <td>3.322879</td>\n",
       "      <td>Jockamo IPA</td>\n",
       "      <td>American IPA</td>\n",
       "      <td>3</td>\n",
       "      <td>Abita Brewing Co.</td>\n",
       "      <td>Abita Springs</td>\n",
       "      <td>LA</td>\n",
       "      <td>US</td>\n",
       "    </tr>\n",
       "  </tbody>\n",
       "</table>\n",
       "</div>"
      ],
      "text/plain": [
       "   beer_id     score         name                 style  brewery_id  \\\n",
       "0        5  3.387036        Amber          Vienna Lager           3   \n",
       "1        6  3.627604     Turbodog     English Brown Ale           3   \n",
       "2        7  3.187646  Purple Haze  Fruit and Field Beer           3   \n",
       "3     1565  3.516667    Andygator        German Maibock           3   \n",
       "4    39390  3.322879  Jockamo IPA          American IPA           3   \n",
       "\n",
       "        brewery_name           city state country  \n",
       "0  Abita Brewing Co.  Abita Springs    LA      US  \n",
       "1  Abita Brewing Co.  Abita Springs    LA      US  \n",
       "2  Abita Brewing Co.  Abita Springs    LA      US  \n",
       "3  Abita Brewing Co.  Abita Springs    LA      US  \n",
       "4  Abita Brewing Co.  Abita Springs    LA      US  "
      ]
     },
     "execution_count": 7,
     "metadata": {},
     "output_type": "execute_result"
    },
    {
     "data": {
      "application/javascript": "\n            setTimeout(function() {\n                var nbb_cell_id = 7;\n                var nbb_unformatted_code = \"beers_df.head()\";\n                var nbb_formatted_code = \"beers_df.head()\";\n                var nbb_cells = Jupyter.notebook.get_cells();\n                for (var i = 0; i < nbb_cells.length; ++i) {\n                    if (nbb_cells[i].input_prompt_number == nbb_cell_id) {\n                        if (nbb_cells[i].get_text() == nbb_unformatted_code) {\n                             nbb_cells[i].set_text(nbb_formatted_code);\n                        }\n                        break;\n                    }\n                }\n            }, 500);\n            ",
      "text/plain": [
       "<IPython.core.display.Javascript object>"
      ]
     },
     "metadata": {},
     "output_type": "display_data"
    }
   ],
   "source": [
    "beers_df.head()"
   ]
  },
  {
   "cell_type": "code",
   "execution_count": 8,
   "metadata": {},
   "outputs": [
    {
     "data": {
      "text/html": [
       "<div>\n",
       "<style scoped>\n",
       "    .dataframe tbody tr th:only-of-type {\n",
       "        vertical-align: middle;\n",
       "    }\n",
       "\n",
       "    .dataframe tbody tr th {\n",
       "        vertical-align: top;\n",
       "    }\n",
       "\n",
       "    .dataframe thead th {\n",
       "        text-align: right;\n",
       "    }\n",
       "</style>\n",
       "<table border=\"1\" class=\"dataframe\">\n",
       "  <thead>\n",
       "    <tr style=\"text-align: right;\">\n",
       "      <th></th>\n",
       "      <th>beer_id</th>\n",
       "      <th>score</th>\n",
       "      <th>name</th>\n",
       "      <th>style</th>\n",
       "      <th>brewery_id</th>\n",
       "      <th>brewery_name</th>\n",
       "      <th>city</th>\n",
       "      <th>state</th>\n",
       "      <th>country</th>\n",
       "      <th>beer_brewery</th>\n",
       "    </tr>\n",
       "  </thead>\n",
       "  <tbody>\n",
       "    <tr>\n",
       "      <th>0</th>\n",
       "      <td>5</td>\n",
       "      <td>3.387036</td>\n",
       "      <td>Amber</td>\n",
       "      <td>Vienna Lager</td>\n",
       "      <td>3</td>\n",
       "      <td>Abita Brewing Co.</td>\n",
       "      <td>Abita Springs</td>\n",
       "      <td>LA</td>\n",
       "      <td>US</td>\n",
       "      <td>Amber; Abita Brewing Co.</td>\n",
       "    </tr>\n",
       "    <tr>\n",
       "      <th>1</th>\n",
       "      <td>6</td>\n",
       "      <td>3.627604</td>\n",
       "      <td>Turbodog</td>\n",
       "      <td>English Brown Ale</td>\n",
       "      <td>3</td>\n",
       "      <td>Abita Brewing Co.</td>\n",
       "      <td>Abita Springs</td>\n",
       "      <td>LA</td>\n",
       "      <td>US</td>\n",
       "      <td>Turbodog; Abita Brewing Co.</td>\n",
       "    </tr>\n",
       "    <tr>\n",
       "      <th>2</th>\n",
       "      <td>7</td>\n",
       "      <td>3.187646</td>\n",
       "      <td>Purple Haze</td>\n",
       "      <td>Fruit and Field Beer</td>\n",
       "      <td>3</td>\n",
       "      <td>Abita Brewing Co.</td>\n",
       "      <td>Abita Springs</td>\n",
       "      <td>LA</td>\n",
       "      <td>US</td>\n",
       "      <td>Purple Haze; Abita Brewing Co.</td>\n",
       "    </tr>\n",
       "    <tr>\n",
       "      <th>3</th>\n",
       "      <td>1565</td>\n",
       "      <td>3.516667</td>\n",
       "      <td>Andygator</td>\n",
       "      <td>German Maibock</td>\n",
       "      <td>3</td>\n",
       "      <td>Abita Brewing Co.</td>\n",
       "      <td>Abita Springs</td>\n",
       "      <td>LA</td>\n",
       "      <td>US</td>\n",
       "      <td>Andygator; Abita Brewing Co.</td>\n",
       "    </tr>\n",
       "    <tr>\n",
       "      <th>4</th>\n",
       "      <td>39390</td>\n",
       "      <td>3.322879</td>\n",
       "      <td>Jockamo IPA</td>\n",
       "      <td>American IPA</td>\n",
       "      <td>3</td>\n",
       "      <td>Abita Brewing Co.</td>\n",
       "      <td>Abita Springs</td>\n",
       "      <td>LA</td>\n",
       "      <td>US</td>\n",
       "      <td>Jockamo IPA; Abita Brewing Co.</td>\n",
       "    </tr>\n",
       "  </tbody>\n",
       "</table>\n",
       "</div>"
      ],
      "text/plain": [
       "   beer_id     score         name                 style  brewery_id  \\\n",
       "0        5  3.387036        Amber          Vienna Lager           3   \n",
       "1        6  3.627604     Turbodog     English Brown Ale           3   \n",
       "2        7  3.187646  Purple Haze  Fruit and Field Beer           3   \n",
       "3     1565  3.516667    Andygator        German Maibock           3   \n",
       "4    39390  3.322879  Jockamo IPA          American IPA           3   \n",
       "\n",
       "        brewery_name           city state country  \\\n",
       "0  Abita Brewing Co.  Abita Springs    LA      US   \n",
       "1  Abita Brewing Co.  Abita Springs    LA      US   \n",
       "2  Abita Brewing Co.  Abita Springs    LA      US   \n",
       "3  Abita Brewing Co.  Abita Springs    LA      US   \n",
       "4  Abita Brewing Co.  Abita Springs    LA      US   \n",
       "\n",
       "                     beer_brewery  \n",
       "0        Amber; Abita Brewing Co.  \n",
       "1     Turbodog; Abita Brewing Co.  \n",
       "2  Purple Haze; Abita Brewing Co.  \n",
       "3    Andygator; Abita Brewing Co.  \n",
       "4  Jockamo IPA; Abita Brewing Co.  "
      ]
     },
     "execution_count": 8,
     "metadata": {},
     "output_type": "execute_result"
    },
    {
     "data": {
      "application/javascript": "\n            setTimeout(function() {\n                var nbb_cell_id = 8;\n                var nbb_unformatted_code = \"beers_df[\\\"beer_brewery\\\"] = beers_df[\\\"name\\\"] +\\\"; \\\"+ beers_df[\\\"brewery_name\\\"]\\nbeers_df.head()\";\n                var nbb_formatted_code = \"beers_df[\\\"beer_brewery\\\"] = beers_df[\\\"name\\\"] + \\\"; \\\" + beers_df[\\\"brewery_name\\\"]\\nbeers_df.head()\";\n                var nbb_cells = Jupyter.notebook.get_cells();\n                for (var i = 0; i < nbb_cells.length; ++i) {\n                    if (nbb_cells[i].input_prompt_number == nbb_cell_id) {\n                        if (nbb_cells[i].get_text() == nbb_unformatted_code) {\n                             nbb_cells[i].set_text(nbb_formatted_code);\n                        }\n                        break;\n                    }\n                }\n            }, 500);\n            ",
      "text/plain": [
       "<IPython.core.display.Javascript object>"
      ]
     },
     "metadata": {},
     "output_type": "display_data"
    }
   ],
   "source": [
    "beers_df[\"beer_brewery\"] = beers_df[\"name\"] +\"; \"+ beers_df[\"brewery_name\"]\n",
    "beers_df.head()"
   ]
  },
  {
   "cell_type": "code",
   "execution_count": 9,
   "metadata": {},
   "outputs": [
    {
     "data": {
      "application/javascript": "\n            setTimeout(function() {\n                var nbb_cell_id = 9;\n                var nbb_unformatted_code = \"def get_beer_brewery (beer_raw_id):\\n    beer_brewery = beers_df.loc[beers_df.beer_id==beer_raw_id,'beer_brewery'].values[0]\\n    return beer_brewery\\n\\ndef get_beer_raw_id (beer_name):\\n    beer_raw_id = beers_df.loc[beers_df.name==beer_name,'beer_id'].values[0]\\n    return beer_raw_id\\n\\ndef get_beer_style (beer_raw_id):\\n    beer_style = beers_df.loc[beers_df.beer_id==beer_raw_id,'style'].values[0]\\n    return beer_style\\n\\ndef get_beer_score_mean (beer_raw_id):\\n    score_mean = beers_df.loc[beers_df.beer_id==beer_raw_id,'score'].values[0]\\n    return score_mean\\n\\ndef get_beer_neighbors (beer_raw_id):\\n    beer_inner_id = algo.trainset.to_inner_iid(beer_raw_id)\\n    beer_neighbors = algo.get_neighbors(beer_inner_id, k=10)\\n    beer_neighbors = (algo.trainset.to_raw_iid(inner_id)\\n                  for inner_id in beer_neighbors)\\n    return(beer_neighbors)\\n\\ndef get_beer_recc_df (beer_raw_id):\\n    beer_inner_id = algo.trainset.to_inner_iid(beer_raw_id)\\n    beer_neighbors = algo.get_neighbors(beer_inner_id, k=10)\\n    beer_neighbors = (algo.trainset.to_raw_iid(inner_id)\\n                      for inner_id in beer_neighbors)\\n    beers_id_recc = []\\n    beer_brewery_recc =[]\\n    beer_style_recc = []\\n    beer_score_mean = []\\n    for beer in beer_neighbors:\\n        beers_id_recc.append(beer)\\n        beer_brewery_recc.append(get_beer_brewery(beer))\\n        beer_style_recc.append(get_beer_style(beer))\\n        beer_score_mean.append(get_beer_score_mean(beer))\\n    beer_reccomendations_df = pd.DataFrame(list(zip(beers_id_recc,\\n                                                    beer_brewery_recc,\\n                                                    beer_style_recc,\\n                                                    beer_score_mean)),\\n                                       columns=['beer_id', 'beer_brewery','style', 'score_mean'])\\n    return beer_reccomendations_df\";\n                var nbb_formatted_code = \"def get_beer_brewery(beer_raw_id):\\n    beer_brewery = beers_df.loc[beers_df.beer_id == beer_raw_id, \\\"beer_brewery\\\"].values[\\n        0\\n    ]\\n    return beer_brewery\\n\\n\\ndef get_beer_raw_id(beer_name):\\n    beer_raw_id = beers_df.loc[beers_df.name == beer_name, \\\"beer_id\\\"].values[0]\\n    return beer_raw_id\\n\\n\\ndef get_beer_style(beer_raw_id):\\n    beer_style = beers_df.loc[beers_df.beer_id == beer_raw_id, \\\"style\\\"].values[0]\\n    return beer_style\\n\\n\\ndef get_beer_score_mean(beer_raw_id):\\n    score_mean = beers_df.loc[beers_df.beer_id == beer_raw_id, \\\"score\\\"].values[0]\\n    return score_mean\\n\\n\\ndef get_beer_neighbors(beer_raw_id):\\n    beer_inner_id = algo.trainset.to_inner_iid(beer_raw_id)\\n    beer_neighbors = algo.get_neighbors(beer_inner_id, k=10)\\n    beer_neighbors = (algo.trainset.to_raw_iid(inner_id) for inner_id in beer_neighbors)\\n    return beer_neighbors\\n\\n\\ndef get_beer_recc_df(beer_raw_id):\\n    beer_inner_id = algo.trainset.to_inner_iid(beer_raw_id)\\n    beer_neighbors = algo.get_neighbors(beer_inner_id, k=10)\\n    beer_neighbors = (algo.trainset.to_raw_iid(inner_id) for inner_id in beer_neighbors)\\n    beers_id_recc = []\\n    beer_brewery_recc = []\\n    beer_style_recc = []\\n    beer_score_mean = []\\n    for beer in beer_neighbors:\\n        beers_id_recc.append(beer)\\n        beer_brewery_recc.append(get_beer_brewery(beer))\\n        beer_style_recc.append(get_beer_style(beer))\\n        beer_score_mean.append(get_beer_score_mean(beer))\\n    beer_reccomendations_df = pd.DataFrame(\\n        list(zip(beers_id_recc, beer_brewery_recc, beer_style_recc, beer_score_mean)),\\n        columns=[\\\"beer_id\\\", \\\"beer_brewery\\\", \\\"style\\\", \\\"score_mean\\\"],\\n    )\\n    return beer_reccomendations_df\";\n                var nbb_cells = Jupyter.notebook.get_cells();\n                for (var i = 0; i < nbb_cells.length; ++i) {\n                    if (nbb_cells[i].input_prompt_number == nbb_cell_id) {\n                        if (nbb_cells[i].get_text() == nbb_unformatted_code) {\n                             nbb_cells[i].set_text(nbb_formatted_code);\n                        }\n                        break;\n                    }\n                }\n            }, 500);\n            ",
      "text/plain": [
       "<IPython.core.display.Javascript object>"
      ]
     },
     "metadata": {},
     "output_type": "display_data"
    }
   ],
   "source": [
    "def get_beer_brewery (beer_raw_id):\n",
    "    beer_brewery = beers_df.loc[beers_df.beer_id==beer_raw_id,'beer_brewery'].values[0]\n",
    "    return beer_brewery\n",
    "\n",
    "def get_beer_raw_id (beer_name):\n",
    "    beer_raw_id = beers_df.loc[beers_df.name==beer_name,'beer_id'].values[0]\n",
    "    return beer_raw_id\n",
    "\n",
    "def get_beer_style (beer_raw_id):\n",
    "    beer_style = beers_df.loc[beers_df.beer_id==beer_raw_id,'style'].values[0]\n",
    "    return beer_style\n",
    "\n",
    "def get_beer_score_mean (beer_raw_id):\n",
    "    score_mean = beers_df.loc[beers_df.beer_id==beer_raw_id,'score'].values[0]\n",
    "    return score_mean\n",
    "\n",
    "def get_beer_neighbors (beer_raw_id):\n",
    "    beer_inner_id = algo.trainset.to_inner_iid(beer_raw_id)\n",
    "    beer_neighbors = algo.get_neighbors(beer_inner_id, k=10)\n",
    "    beer_neighbors = (algo.trainset.to_raw_iid(inner_id)\n",
    "                  for inner_id in beer_neighbors)\n",
    "    return(beer_neighbors)\n",
    "\n",
    "def get_beer_recc_df (beer_raw_id):\n",
    "    beer_inner_id = algo.trainset.to_inner_iid(beer_raw_id)\n",
    "    beer_neighbors = algo.get_neighbors(beer_inner_id, k=10)\n",
    "    beer_neighbors = (algo.trainset.to_raw_iid(inner_id)\n",
    "                      for inner_id in beer_neighbors)\n",
    "    beers_id_recc = []\n",
    "    beer_brewery_recc =[]\n",
    "    beer_style_recc = []\n",
    "    beer_score_mean = []\n",
    "    for beer in beer_neighbors:\n",
    "        beers_id_recc.append(beer)\n",
    "        beer_brewery_recc.append(get_beer_brewery(beer))\n",
    "        beer_style_recc.append(get_beer_style(beer))\n",
    "        beer_score_mean.append(get_beer_score_mean(beer))\n",
    "    beer_reccomendations_df = pd.DataFrame(list(zip(beers_id_recc,\n",
    "                                                    beer_brewery_recc,\n",
    "                                                    beer_style_recc,\n",
    "                                                    beer_score_mean)),\n",
    "                                       columns=['beer_id', 'beer_brewery','style', 'score_mean'])\n",
    "    return beer_reccomendations_df"
   ]
  },
  {
   "cell_type": "code",
   "execution_count": 10,
   "metadata": {},
   "outputs": [
    {
     "data": {
      "application/javascript": "\n            setTimeout(function() {\n                var nbb_cell_id = 10;\n                var nbb_unformatted_code = \"trainset = algo.trainset\";\n                var nbb_formatted_code = \"trainset = algo.trainset\";\n                var nbb_cells = Jupyter.notebook.get_cells();\n                for (var i = 0; i < nbb_cells.length; ++i) {\n                    if (nbb_cells[i].input_prompt_number == nbb_cell_id) {\n                        if (nbb_cells[i].get_text() == nbb_unformatted_code) {\n                             nbb_cells[i].set_text(nbb_formatted_code);\n                        }\n                        break;\n                    }\n                }\n            }, 500);\n            ",
      "text/plain": [
       "<IPython.core.display.Javascript object>"
      ]
     },
     "metadata": {},
     "output_type": "display_data"
    }
   ],
   "source": [
    "trainset = algo.trainset"
   ]
  },
  {
   "cell_type": "code",
   "execution_count": 11,
   "metadata": {
    "scrolled": true
   },
   "outputs": [
    {
     "name": "stdout",
     "output_type": "stream",
     "text": [
      "The 10 nearest neighbors of Corona Extra, American Adjunct Lager, score = 2.2439050847457627 are:\n"
     ]
    },
    {
     "data": {
      "text/html": [
       "<div>\n",
       "<style scoped>\n",
       "    .dataframe tbody tr th:only-of-type {\n",
       "        vertical-align: middle;\n",
       "    }\n",
       "\n",
       "    .dataframe tbody tr th {\n",
       "        vertical-align: top;\n",
       "    }\n",
       "\n",
       "    .dataframe thead th {\n",
       "        text-align: right;\n",
       "    }\n",
       "</style>\n",
       "<table border=\"1\" class=\"dataframe\">\n",
       "  <thead>\n",
       "    <tr style=\"text-align: right;\">\n",
       "      <th></th>\n",
       "      <th>beer_id</th>\n",
       "      <th>beer_brewery</th>\n",
       "      <th>style</th>\n",
       "      <th>score_mean</th>\n",
       "    </tr>\n",
       "  </thead>\n",
       "  <tbody>\n",
       "    <tr>\n",
       "      <th>0</th>\n",
       "      <td>233</td>\n",
       "      <td>Corona Light; Grupo Modelo S.A. de C.V.</td>\n",
       "      <td>American Light Lager</td>\n",
       "      <td>1.870044</td>\n",
       "    </tr>\n",
       "    <tr>\n",
       "      <th>1</th>\n",
       "      <td>1320</td>\n",
       "      <td>Bud Light; Anheuser-Busch</td>\n",
       "      <td>American Light Lager</td>\n",
       "      <td>1.788794</td>\n",
       "    </tr>\n",
       "    <tr>\n",
       "      <th>2</th>\n",
       "      <td>41821</td>\n",
       "      <td>Bud Light Lime; Anheuser-Busch</td>\n",
       "      <td>American Light Lager</td>\n",
       "      <td>2.062840</td>\n",
       "    </tr>\n",
       "    <tr>\n",
       "      <th>3</th>\n",
       "      <td>2755</td>\n",
       "      <td>Cerveza Pacifico Clara; Grupo Modelo S.A. de C.V.</td>\n",
       "      <td>American Adjunct Lager</td>\n",
       "      <td>2.628512</td>\n",
       "    </tr>\n",
       "    <tr>\n",
       "      <th>4</th>\n",
       "      <td>332</td>\n",
       "      <td>Miller Lite; Miller Brewing Co.</td>\n",
       "      <td>American Light Lager</td>\n",
       "      <td>2.089922</td>\n",
       "    </tr>\n",
       "    <tr>\n",
       "      <th>5</th>\n",
       "      <td>2435</td>\n",
       "      <td>Beck's; Brauerei Beck &amp; Co.</td>\n",
       "      <td>German Pilsner</td>\n",
       "      <td>2.711412</td>\n",
       "    </tr>\n",
       "    <tr>\n",
       "      <th>6</th>\n",
       "      <td>10071</td>\n",
       "      <td>Sapporo Premium Beer; Sapporo Breweries Ltd.</td>\n",
       "      <td>American Lager</td>\n",
       "      <td>2.800680</td>\n",
       "    </tr>\n",
       "    <tr>\n",
       "      <th>7</th>\n",
       "      <td>65</td>\n",
       "      <td>Budweiser; Anheuser-Busch</td>\n",
       "      <td>American Adjunct Lager</td>\n",
       "      <td>2.272213</td>\n",
       "    </tr>\n",
       "    <tr>\n",
       "      <th>8</th>\n",
       "      <td>1790</td>\n",
       "      <td>Peroni Nastro Azzurro; Birra Peroni Industrial...</td>\n",
       "      <td>European Pale Lager</td>\n",
       "      <td>2.736756</td>\n",
       "    </tr>\n",
       "    <tr>\n",
       "      <th>9</th>\n",
       "      <td>1351</td>\n",
       "      <td>Yuengling Traditional Lager; Yuengling Brewery</td>\n",
       "      <td>American Amber / Red Lager</td>\n",
       "      <td>3.312699</td>\n",
       "    </tr>\n",
       "  </tbody>\n",
       "</table>\n",
       "</div>"
      ],
      "text/plain": [
       "   beer_id                                       beer_brewery  \\\n",
       "0      233            Corona Light; Grupo Modelo S.A. de C.V.   \n",
       "1     1320                          Bud Light; Anheuser-Busch   \n",
       "2    41821                     Bud Light Lime; Anheuser-Busch   \n",
       "3     2755  Cerveza Pacifico Clara; Grupo Modelo S.A. de C.V.   \n",
       "4      332                    Miller Lite; Miller Brewing Co.   \n",
       "5     2435                        Beck's; Brauerei Beck & Co.   \n",
       "6    10071       Sapporo Premium Beer; Sapporo Breweries Ltd.   \n",
       "7       65                          Budweiser; Anheuser-Busch   \n",
       "8     1790  Peroni Nastro Azzurro; Birra Peroni Industrial...   \n",
       "9     1351     Yuengling Traditional Lager; Yuengling Brewery   \n",
       "\n",
       "                        style  score_mean  \n",
       "0        American Light Lager    1.870044  \n",
       "1        American Light Lager    1.788794  \n",
       "2        American Light Lager    2.062840  \n",
       "3      American Adjunct Lager    2.628512  \n",
       "4        American Light Lager    2.089922  \n",
       "5              German Pilsner    2.711412  \n",
       "6              American Lager    2.800680  \n",
       "7      American Adjunct Lager    2.272213  \n",
       "8         European Pale Lager    2.736756  \n",
       "9  American Amber / Red Lager    3.312699  "
      ]
     },
     "execution_count": 11,
     "metadata": {},
     "output_type": "execute_result"
    },
    {
     "data": {
      "application/javascript": "\n            setTimeout(function() {\n                var nbb_cell_id = 11;\n                var nbb_unformatted_code = \"# Lets test some beers.  Enter a beer and use the predictions model to return 5 nearest neighbors\\n# K=10\\nbeer_name = \\\"Corona Extra\\\"\\nbeer_raw_id = get_beer_raw_id(beer_name)\\nprint(f'The 10 nearest neighbors of {beer_name}, {get_beer_style(beer_raw_id)},\\\\\\n score = {get_beer_score_mean (beer_raw_id)} are:')\\ndf = get_beer_recc_df (beer_raw_id)\\ndf.head(10)\";\n                var nbb_formatted_code = \"# Lets test some beers.  Enter a beer and use the predictions model to return 5 nearest neighbors\\n# K=10\\nbeer_name = \\\"Corona Extra\\\"\\nbeer_raw_id = get_beer_raw_id(beer_name)\\nprint(\\n    f\\\"The 10 nearest neighbors of {beer_name}, {get_beer_style(beer_raw_id)},\\\\\\n score = {get_beer_score_mean (beer_raw_id)} are:\\\"\\n)\\ndf = get_beer_recc_df(beer_raw_id)\\ndf.head(10)\";\n                var nbb_cells = Jupyter.notebook.get_cells();\n                for (var i = 0; i < nbb_cells.length; ++i) {\n                    if (nbb_cells[i].input_prompt_number == nbb_cell_id) {\n                        if (nbb_cells[i].get_text() == nbb_unformatted_code) {\n                             nbb_cells[i].set_text(nbb_formatted_code);\n                        }\n                        break;\n                    }\n                }\n            }, 500);\n            ",
      "text/plain": [
       "<IPython.core.display.Javascript object>"
      ]
     },
     "metadata": {},
     "output_type": "display_data"
    }
   ],
   "source": [
    "# Lets test some beers.  Enter a beer and use the predictions model to return 5 nearest neighbors\n",
    "# K=10\n",
    "beer_name = \"Corona Extra\"\n",
    "beer_raw_id = get_beer_raw_id(beer_name)\n",
    "print(f'The 10 nearest neighbors of {beer_name}, {get_beer_style(beer_raw_id)},\\\n",
    " score = {get_beer_score_mean (beer_raw_id)} are:')\n",
    "df = get_beer_recc_df (beer_raw_id)\n",
    "df.head(10)"
   ]
  },
  {
   "cell_type": "code",
   "execution_count": 12,
   "metadata": {},
   "outputs": [
    {
     "data": {
      "application/javascript": "\n            setTimeout(function() {\n                var nbb_cell_id = 12;\n                var nbb_unformatted_code = \"beers_df.to_pickle(\\\"../data/dump/beer_final1.pkl\\\")\";\n                var nbb_formatted_code = \"beers_df.to_pickle(\\\"../data/dump/beer_final1.pkl\\\")\";\n                var nbb_cells = Jupyter.notebook.get_cells();\n                for (var i = 0; i < nbb_cells.length; ++i) {\n                    if (nbb_cells[i].input_prompt_number == nbb_cell_id) {\n                        if (nbb_cells[i].get_text() == nbb_unformatted_code) {\n                             nbb_cells[i].set_text(nbb_formatted_code);\n                        }\n                        break;\n                    }\n                }\n            }, 500);\n            ",
      "text/plain": [
       "<IPython.core.display.Javascript object>"
      ]
     },
     "metadata": {},
     "output_type": "display_data"
    }
   ],
   "source": [
    "beers_df.to_pickle(\"../data/dump/beer_final1.pkl\")"
   ]
  }
 ],
 "metadata": {
  "kernelspec": {
   "display_name": "base",
   "language": "python",
   "name": "python3"
  },
  "language_info": {
   "codemirror_mode": {
    "name": "ipython",
    "version": 3
   },
   "file_extension": ".py",
   "mimetype": "text/x-python",
   "name": "python",
   "nbconvert_exporter": "python",
   "pygments_lexer": "ipython3",
   "version": "3.9.12"
  }
 },
 "nbformat": 4,
 "nbformat_minor": 2
}
