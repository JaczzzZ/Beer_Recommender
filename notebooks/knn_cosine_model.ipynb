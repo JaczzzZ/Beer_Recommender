{
 "cells": [
  {
   "cell_type": "code",
   "execution_count": 1,
   "metadata": {},
   "outputs": [
    {
     "data": {
      "application/javascript": "\n            setTimeout(function() {\n                var nbb_cell_id = 1;\n                var nbb_unformatted_code = \"%load_ext nb_black\";\n                var nbb_formatted_code = \"%load_ext nb_black\";\n                var nbb_cells = Jupyter.notebook.get_cells();\n                for (var i = 0; i < nbb_cells.length; ++i) {\n                    if (nbb_cells[i].input_prompt_number == nbb_cell_id) {\n                        if (nbb_cells[i].get_text() == nbb_unformatted_code) {\n                             nbb_cells[i].set_text(nbb_formatted_code);\n                        }\n                        break;\n                    }\n                }\n            }, 500);\n            ",
      "text/plain": [
       "<IPython.core.display.Javascript object>"
      ]
     },
     "metadata": {},
     "output_type": "display_data"
    }
   ],
   "source": [
    "%load_ext nb_black"
   ]
  },
  {
   "cell_type": "code",
   "execution_count": 2,
   "metadata": {},
   "outputs": [
    {
     "data": {
      "application/javascript": "\n            setTimeout(function() {\n                var nbb_cell_id = 2;\n                var nbb_unformatted_code = \"import os\\nimport pandas as pd\\nimport numpy as np\\nimport matplotlib.pyplot as plt\\nimport pandas as pd\\nfrom surprise import Dataset\\nfrom surprise import Reader\\nfrom surprise.model_selection import cross_validate\\nfrom surprise import KNNBasic\\nfrom surprise.model_selection import train_test_split\\nfrom surprise import dump\\nimport csv\\nfrom surprise import accuracy\\nfrom pprint import pprint\";\n                var nbb_formatted_code = \"import os\\nimport pandas as pd\\nimport numpy as np\\nimport matplotlib.pyplot as plt\\nimport pandas as pd\\nfrom surprise import Dataset\\nfrom surprise import Reader\\nfrom surprise.model_selection import cross_validate\\nfrom surprise import KNNBasic\\nfrom surprise.model_selection import train_test_split\\nfrom surprise import dump\\nimport csv\\nfrom surprise import accuracy\\nfrom pprint import pprint\";\n                var nbb_cells = Jupyter.notebook.get_cells();\n                for (var i = 0; i < nbb_cells.length; ++i) {\n                    if (nbb_cells[i].input_prompt_number == nbb_cell_id) {\n                        if (nbb_cells[i].get_text() == nbb_unformatted_code) {\n                             nbb_cells[i].set_text(nbb_formatted_code);\n                        }\n                        break;\n                    }\n                }\n            }, 500);\n            ",
      "text/plain": [
       "<IPython.core.display.Javascript object>"
      ]
     },
     "metadata": {},
     "output_type": "display_data"
    }
   ],
   "source": [
    "import os\n",
    "import pandas as pd\n",
    "import numpy as np\n",
    "import matplotlib.pyplot as plt\n",
    "import pandas as pd\n",
    "from surprise import Dataset\n",
    "from surprise import Reader\n",
    "from surprise.model_selection import cross_validate\n",
    "from surprise import KNNBasic\n",
    "from surprise.model_selection import train_test_split\n",
    "from surprise import dump\n",
    "import csv\n",
    "from surprise import accuracy\n",
    "from pprint import pprint"
   ]
  },
  {
   "cell_type": "code",
   "execution_count": 3,
   "metadata": {},
   "outputs": [
    {
     "data": {
      "application/javascript": "\n            setTimeout(function() {\n                var nbb_cell_id = 3;\n                var nbb_unformatted_code = \"csv_path = os.path.join(\\\"../data/csv/reviews_cleaned_reduced_500.csv\\\")\\nTextFileReader = pd.read_csv(csv_path, chunksize=1000)  # the number of rows per chunk\\n\\ndfList = []\\nfor df in TextFileReader:\\n    dfList.append(df)\\n\\ndf = pd.concat(dfList,sort=False)\";\n                var nbb_formatted_code = \"csv_path = os.path.join(\\\"../data/csv/reviews_cleaned_reduced_500.csv\\\")\\nTextFileReader = pd.read_csv(csv_path, chunksize=1000)  # the number of rows per chunk\\n\\ndfList = []\\nfor df in TextFileReader:\\n    dfList.append(df)\\n\\ndf = pd.concat(dfList, sort=False)\";\n                var nbb_cells = Jupyter.notebook.get_cells();\n                for (var i = 0; i < nbb_cells.length; ++i) {\n                    if (nbb_cells[i].input_prompt_number == nbb_cell_id) {\n                        if (nbb_cells[i].get_text() == nbb_unformatted_code) {\n                             nbb_cells[i].set_text(nbb_formatted_code);\n                        }\n                        break;\n                    }\n                }\n            }, 500);\n            ",
      "text/plain": [
       "<IPython.core.display.Javascript object>"
      ]
     },
     "metadata": {},
     "output_type": "display_data"
    }
   ],
   "source": [
    "csv_path = os.path.join(\"../data/csv/reviews_cleaned_reduced_500.csv\")\n",
    "TextFileReader = pd.read_csv(csv_path, chunksize=1000)  # the number of rows per chunk\n",
    "\n",
    "dfList = []\n",
    "for df in TextFileReader:\n",
    "    dfList.append(df)\n",
    "\n",
    "df = pd.concat(dfList,sort=False)\n"
   ]
  },
  {
   "cell_type": "code",
   "execution_count": 4,
   "metadata": {},
   "outputs": [
    {
     "data": {
      "application/javascript": "\n            setTimeout(function() {\n                var nbb_cell_id = 4;\n                var nbb_unformatted_code = \"# load beers\\ncsv_path = os.path.join(\\\"../data/csv/beers.csv\\\")\\nbeers_df = pd.read_csv(csv_path)\";\n                var nbb_formatted_code = \"# load beers\\ncsv_path = os.path.join(\\\"../data/csv/beers.csv\\\")\\nbeers_df = pd.read_csv(csv_path)\";\n                var nbb_cells = Jupyter.notebook.get_cells();\n                for (var i = 0; i < nbb_cells.length; ++i) {\n                    if (nbb_cells[i].input_prompt_number == nbb_cell_id) {\n                        if (nbb_cells[i].get_text() == nbb_unformatted_code) {\n                             nbb_cells[i].set_text(nbb_formatted_code);\n                        }\n                        break;\n                    }\n                }\n            }, 500);\n            ",
      "text/plain": [
       "<IPython.core.display.Javascript object>"
      ]
     },
     "metadata": {},
     "output_type": "display_data"
    }
   ],
   "source": [
    "# load beers\n",
    "csv_path = os.path.join(\"../data/csv/beers.csv\")\n",
    "beers_df = pd.read_csv(csv_path)"
   ]
  },
  {
   "cell_type": "code",
   "execution_count": 5,
   "metadata": {},
   "outputs": [
    {
     "data": {
      "application/javascript": "\n            setTimeout(function() {\n                var nbb_cell_id = 5;\n                var nbb_unformatted_code = \"beers_df = beers_df.rename(columns={'id': 'beer_id'})\";\n                var nbb_formatted_code = \"beers_df = beers_df.rename(columns={\\\"id\\\": \\\"beer_id\\\"})\";\n                var nbb_cells = Jupyter.notebook.get_cells();\n                for (var i = 0; i < nbb_cells.length; ++i) {\n                    if (nbb_cells[i].input_prompt_number == nbb_cell_id) {\n                        if (nbb_cells[i].get_text() == nbb_unformatted_code) {\n                             nbb_cells[i].set_text(nbb_formatted_code);\n                        }\n                        break;\n                    }\n                }\n            }, 500);\n            ",
      "text/plain": [
       "<IPython.core.display.Javascript object>"
      ]
     },
     "metadata": {},
     "output_type": "display_data"
    }
   ],
   "source": [
    "beers_df = beers_df.rename(columns={'id': 'beer_id'})"
   ]
  },
  {
   "cell_type": "code",
   "execution_count": 6,
   "metadata": {},
   "outputs": [
    {
     "data": {
      "application/javascript": "\n            setTimeout(function() {\n                var nbb_cell_id = 6;\n                var nbb_unformatted_code = \"# Lets combine the dataframe\\nmerge_df = pd.merge(df,\\n                 beers_df[['beer_id', 'name', 'style', 'brewery_id']],\\n                 on='beer_id')\";\n                var nbb_formatted_code = \"# Lets combine the dataframe\\nmerge_df = pd.merge(\\n    df, beers_df[[\\\"beer_id\\\", \\\"name\\\", \\\"style\\\", \\\"brewery_id\\\"]], on=\\\"beer_id\\\"\\n)\";\n                var nbb_cells = Jupyter.notebook.get_cells();\n                for (var i = 0; i < nbb_cells.length; ++i) {\n                    if (nbb_cells[i].input_prompt_number == nbb_cell_id) {\n                        if (nbb_cells[i].get_text() == nbb_unformatted_code) {\n                             nbb_cells[i].set_text(nbb_formatted_code);\n                        }\n                        break;\n                    }\n                }\n            }, 500);\n            ",
      "text/plain": [
       "<IPython.core.display.Javascript object>"
      ]
     },
     "metadata": {},
     "output_type": "display_data"
    }
   ],
   "source": [
    "# Lets combine the dataframe\n",
    "merge_df = pd.merge(df,\n",
    "                 beers_df[['beer_id', 'name', 'style', 'brewery_id']],\n",
    "                 on='beer_id')"
   ]
  },
  {
   "cell_type": "code",
   "execution_count": 7,
   "metadata": {},
   "outputs": [
    {
     "name": "stdout",
     "output_type": "stream",
     "text": [
      "Computing the cosine similarity matrix...\n",
      "Done computing similarity matrix.\n",
      "Computing the cosine similarity matrix...\n",
      "Done computing similarity matrix.\n",
      "RMSE: 0.5578\n",
      "MAE:  0.3934\n"
     ]
    },
    {
     "data": {
      "text/plain": [
       "0.39341180683491567"
      ]
     },
     "execution_count": 7,
     "metadata": {},
     "output_type": "execute_result"
    },
    {
     "data": {
      "application/javascript": "\n            setTimeout(function() {\n                var nbb_cell_id = 7;\n                var nbb_unformatted_code = \"# sample random trainset and testset method Using Cosine similarity\\n# test set is made of 25% of the ratings. we are looking at similarities between items (user_based=false)\\nreader=Reader(rating_scale=(0,5))\\ndata = Dataset.load_from_df(merge_df[['username', 'beer_id', 'score']], reader)\\n\\ntrainset, testset = train_test_split(data, test_size=.25)\\n\\nsim_options = {'name': 'cosine',\\n               'user_based': False\\n               }\\n\\n# We'll use KNN.\\nalgo = KNNBasic(min_k = 5, sim_options=sim_options)\\n\\n# Train the algorithm on the trainset, and predict ratings for the testset\\nalgo.fit(trainset)\\npredictions = algo.fit(trainset).test(testset)\\n\\n# Then compute RMSE\\naccuracy.rmse(predictions)\\naccuracy.mae(predictions)\";\n                var nbb_formatted_code = \"# sample random trainset and testset method Using Cosine similarity\\n# test set is made of 25% of the ratings. we are looking at similarities between items (user_based=false)\\nreader = Reader(rating_scale=(0, 5))\\ndata = Dataset.load_from_df(merge_df[[\\\"username\\\", \\\"beer_id\\\", \\\"score\\\"]], reader)\\n\\ntrainset, testset = train_test_split(data, test_size=0.25)\\n\\nsim_options = {\\\"name\\\": \\\"cosine\\\", \\\"user_based\\\": False}\\n\\n# We'll use KNN.\\nalgo = KNNBasic(min_k=5, sim_options=sim_options)\\n\\n# Train the algorithm on the trainset, and predict ratings for the testset\\nalgo.fit(trainset)\\npredictions = algo.fit(trainset).test(testset)\\n\\n# Then compute RMSE\\naccuracy.rmse(predictions)\\naccuracy.mae(predictions)\";\n                var nbb_cells = Jupyter.notebook.get_cells();\n                for (var i = 0; i < nbb_cells.length; ++i) {\n                    if (nbb_cells[i].input_prompt_number == nbb_cell_id) {\n                        if (nbb_cells[i].get_text() == nbb_unformatted_code) {\n                             nbb_cells[i].set_text(nbb_formatted_code);\n                        }\n                        break;\n                    }\n                }\n            }, 500);\n            ",
      "text/plain": [
       "<IPython.core.display.Javascript object>"
      ]
     },
     "metadata": {},
     "output_type": "display_data"
    }
   ],
   "source": [
    "# sample random trainset and testset method Using Cosine similarity\n",
    "# test set is made of 25% of the ratings. we are looking at similarities between items (user_based=false)\n",
    "reader=Reader(rating_scale=(0,5))\n",
    "data = Dataset.load_from_df(merge_df[['username', 'beer_id', 'score']], reader)\n",
    "\n",
    "trainset, testset = train_test_split(data, test_size=.25)\n",
    "\n",
    "sim_options = {'name': 'cosine',\n",
    "               'user_based': False\n",
    "               }\n",
    "\n",
    "# We'll use KNN.\n",
    "algo = KNNBasic(min_k = 5, sim_options=sim_options)\n",
    "\n",
    "# Train the algorithm on the trainset, and predict ratings for the testset\n",
    "algo.fit(trainset)\n",
    "predictions = algo.fit(trainset).test(testset)\n",
    "\n",
    "# Then compute RMSE\n",
    "accuracy.rmse(predictions)\n",
    "accuracy.mae(predictions)"
   ]
  },
  {
   "cell_type": "code",
   "execution_count": 15,
   "metadata": {},
   "outputs": [
    {
     "data": {
      "application/javascript": "\n            setTimeout(function() {\n                var nbb_cell_id = 15;\n                var nbb_unformatted_code = \"dumpfile = os.path.join('../data/dump/dump_knn_cosine_500dump_file1')\\ndump.dump(dumpfile, predictions, algo)\";\n                var nbb_formatted_code = \"dumpfile = os.path.join(\\\"../data/dump/dump_knn_cosine_500dump_file1\\\")\\ndump.dump(dumpfile, predictions, algo)\";\n                var nbb_cells = Jupyter.notebook.get_cells();\n                for (var i = 0; i < nbb_cells.length; ++i) {\n                    if (nbb_cells[i].input_prompt_number == nbb_cell_id) {\n                        if (nbb_cells[i].get_text() == nbb_unformatted_code) {\n                             nbb_cells[i].set_text(nbb_formatted_code);\n                        }\n                        break;\n                    }\n                }\n            }, 500);\n            ",
      "text/plain": [
       "<IPython.core.display.Javascript object>"
      ]
     },
     "metadata": {},
     "output_type": "display_data"
    }
   ],
   "source": [
    "dumpfile = os.path.join('../data/dump/dump_knn_cosine_500dump_file1')\n",
    "dump.dump(dumpfile, predictions, algo)"
   ]
  },
  {
   "cell_type": "code",
   "execution_count": 8,
   "metadata": {},
   "outputs": [
    {
     "data": {
      "application/javascript": "\n            setTimeout(function() {\n                var nbb_cell_id = 8;\n                var nbb_unformatted_code = \"# Lets serialize and save this prediction algorithm\\n# Dump algorithm and reload it\\nfile_name_algo = os.path.join('../data/dump/algo_knn_cosine_500dump_file')\\ndump.dump(file_name_algo, algo=algo)\\nfile_name_pred = os.path.join('../data/dump/pred_knn_cosine_500dump_file')\\ndump.dump(file_name_pred, predictions=predictions)\";\n                var nbb_formatted_code = \"# Lets serialize and save this prediction algorithm\\n# Dump algorithm and reload it\\nfile_name_algo = os.path.join(\\\"../data/dump/algo_knn_cosine_500dump_file\\\")\\ndump.dump(file_name_algo, algo=algo)\\nfile_name_pred = os.path.join(\\\"../data/dump/pred_knn_cosine_500dump_file\\\")\\ndump.dump(file_name_pred, predictions=predictions)\";\n                var nbb_cells = Jupyter.notebook.get_cells();\n                for (var i = 0; i < nbb_cells.length; ++i) {\n                    if (nbb_cells[i].input_prompt_number == nbb_cell_id) {\n                        if (nbb_cells[i].get_text() == nbb_unformatted_code) {\n                             nbb_cells[i].set_text(nbb_formatted_code);\n                        }\n                        break;\n                    }\n                }\n            }, 500);\n            ",
      "text/plain": [
       "<IPython.core.display.Javascript object>"
      ]
     },
     "metadata": {},
     "output_type": "display_data"
    }
   ],
   "source": [
    "# Lets serialize and save this prediction algorithm\n",
    "# Dump algorithm and reload it\n",
    "file_name_algo = os.path.join('../data/dump/algo_knn_cosine_500dump_file')\n",
    "dump.dump(file_name_algo, algo=algo)\n",
    "file_name_pred = os.path.join('../data/dump/pred_knn_cosine_500dump_file')\n",
    "dump.dump(file_name_pred, predictions=predictions)"
   ]
  },
  {
   "cell_type": "code",
   "execution_count": 9,
   "metadata": {},
   "outputs": [
    {
     "data": {
      "application/javascript": "\n            setTimeout(function() {\n                var nbb_cell_id = 9;\n                var nbb_unformatted_code = \"# Code below identifes the top 10 best and worst predictions based upon code from this \\n# notebook:https://nbviewer.jupyter.org/github/NicolasHug/Surprise/blob/master/examples/notebooks/KNNBasic_analysis.ipynb\\ndef get_Iu(uid):\\n    \\\"\\\"\\\" return the number of items rated by given user\\n    args: \\n      uid: the id of the user\\n    returns: \\n      the number of items rated by the user\\n    \\\"\\\"\\\"\\n    try:\\n        return len(trainset.ur[trainset.to_inner_uid(uid)])\\n    except ValueError: # user was not part of the trainset\\n        return 0\\n    \\ndef get_Ui(iid):\\n    \\\"\\\"\\\" return number of users that have rated given item\\n    args:\\n      iid: the raw id of the item\\n    returns:\\n      the number of users that have rated the item.\\n    \\\"\\\"\\\"\\n    try: \\n        return len(trainset.ir[trainset.to_inner_iid(iid)])\\n    except ValueError:\\n        return 0\\n\\n    \\ndf_predict = pd.DataFrame(predictions, columns=['uid', 'iid', 'rui', 'est', 'details'])\\ndf_predict['Iu'] = df_predict.uid.apply(get_Iu)\\ndf_predict['Ui'] = df_predict.iid.apply(get_Ui)\\ndf_predict['err'] = abs(df_predict.est - df_predict.rui)\\nbest_predictions = df_predict.sort_values(by='err')[:10]\\nworst_predictions = df_predict.sort_values(by='err')[-10:]   \";\n                var nbb_formatted_code = \"# Code below identifes the top 10 best and worst predictions based upon code from this\\n# notebook:https://nbviewer.jupyter.org/github/NicolasHug/Surprise/blob/master/examples/notebooks/KNNBasic_analysis.ipynb\\ndef get_Iu(uid):\\n    \\\"\\\"\\\" return the number of items rated by given user\\n    args: \\n      uid: the id of the user\\n    returns: \\n      the number of items rated by the user\\n    \\\"\\\"\\\"\\n    try:\\n        return len(trainset.ur[trainset.to_inner_uid(uid)])\\n    except ValueError:  # user was not part of the trainset\\n        return 0\\n\\n\\ndef get_Ui(iid):\\n    \\\"\\\"\\\" return number of users that have rated given item\\n    args:\\n      iid: the raw id of the item\\n    returns:\\n      the number of users that have rated the item.\\n    \\\"\\\"\\\"\\n    try:\\n        return len(trainset.ir[trainset.to_inner_iid(iid)])\\n    except ValueError:\\n        return 0\\n\\n\\ndf_predict = pd.DataFrame(predictions, columns=[\\\"uid\\\", \\\"iid\\\", \\\"rui\\\", \\\"est\\\", \\\"details\\\"])\\ndf_predict[\\\"Iu\\\"] = df_predict.uid.apply(get_Iu)\\ndf_predict[\\\"Ui\\\"] = df_predict.iid.apply(get_Ui)\\ndf_predict[\\\"err\\\"] = abs(df_predict.est - df_predict.rui)\\nbest_predictions = df_predict.sort_values(by=\\\"err\\\")[:10]\\nworst_predictions = df_predict.sort_values(by=\\\"err\\\")[-10:]\";\n                var nbb_cells = Jupyter.notebook.get_cells();\n                for (var i = 0; i < nbb_cells.length; ++i) {\n                    if (nbb_cells[i].input_prompt_number == nbb_cell_id) {\n                        if (nbb_cells[i].get_text() == nbb_unformatted_code) {\n                             nbb_cells[i].set_text(nbb_formatted_code);\n                        }\n                        break;\n                    }\n                }\n            }, 500);\n            ",
      "text/plain": [
       "<IPython.core.display.Javascript object>"
      ]
     },
     "metadata": {},
     "output_type": "display_data"
    }
   ],
   "source": [
    "# Code below identifes the top 10 best and worst predictions based upon code from this \n",
    "# notebook:https://nbviewer.jupyter.org/github/NicolasHug/Surprise/blob/master/examples/notebooks/KNNBasic_analysis.ipynb\n",
    "def get_Iu(uid):\n",
    "    \"\"\" return the number of items rated by given user\n",
    "    args: \n",
    "      uid: the id of the user\n",
    "    returns: \n",
    "      the number of items rated by the user\n",
    "    \"\"\"\n",
    "    try:\n",
    "        return len(trainset.ur[trainset.to_inner_uid(uid)])\n",
    "    except ValueError: # user was not part of the trainset\n",
    "        return 0\n",
    "    \n",
    "def get_Ui(iid):\n",
    "    \"\"\" return number of users that have rated given item\n",
    "    args:\n",
    "      iid: the raw id of the item\n",
    "    returns:\n",
    "      the number of users that have rated the item.\n",
    "    \"\"\"\n",
    "    try: \n",
    "        return len(trainset.ir[trainset.to_inner_iid(iid)])\n",
    "    except ValueError:\n",
    "        return 0\n",
    "\n",
    "    \n",
    "df_predict = pd.DataFrame(predictions, columns=['uid', 'iid', 'rui', 'est', 'details'])\n",
    "df_predict['Iu'] = df_predict.uid.apply(get_Iu)\n",
    "df_predict['Ui'] = df_predict.iid.apply(get_Ui)\n",
    "df_predict['err'] = abs(df_predict.est - df_predict.rui)\n",
    "best_predictions = df_predict.sort_values(by='err')[:10]\n",
    "worst_predictions = df_predict.sort_values(by='err')[-10:]   "
   ]
  },
  {
   "cell_type": "code",
   "execution_count": 10,
   "metadata": {},
   "outputs": [
    {
     "name": "stdout",
     "output_type": "stream",
     "text": [
      "                 uid     iid  rui  est  \\\n",
      "195564  DrunkyBuddha    1558  5.0  5.0   \n",
      "18707   DrunkyBuddha   47658  5.0  5.0   \n",
      "81658         CEDAMA    2093  5.0  5.0   \n",
      "52336   DrunkyBuddha  128500  5.0  5.0   \n",
      "17487         CEDAMA   35732  5.0  5.0   \n",
      "33449      100200300     103  3.0  3.0   \n",
      "44746   DrunkyBuddha  111616  5.0  5.0   \n",
      "85084       bmcduff2     104  1.0  1.0   \n",
      "134924      bmcduff2   29015  1.0  1.0   \n",
      "9474       100200300    2318  3.0  3.0   \n",
      "\n",
      "                                          details   Iu    Ui  err  \n",
      "195564  {'actual_k': 40, 'was_impossible': False}   64  1436  0.0  \n",
      "18707   {'actual_k': 40, 'was_impossible': False}   64  1321  0.0  \n",
      "81658   {'actual_k': 40, 'was_impossible': False}  105  2811  0.0  \n",
      "52336   {'actual_k': 40, 'was_impossible': False}   64  1047  0.0  \n",
      "17487   {'actual_k': 40, 'was_impossible': False}  105   884  0.0  \n",
      "33449   {'actual_k': 40, 'was_impossible': False}   44  1335  0.0  \n",
      "44746   {'actual_k': 40, 'was_impossible': False}   64   897  0.0  \n",
      "85084   {'actual_k': 20, 'was_impossible': False}   20  1858  0.0  \n",
      "134924  {'actual_k': 20, 'was_impossible': False}   20   523  0.0  \n",
      "9474    {'actual_k': 40, 'was_impossible': False}   44   454  0.0  \n"
     ]
    },
    {
     "data": {
      "application/javascript": "\n            setTimeout(function() {\n                var nbb_cell_id = 10;\n                var nbb_unformatted_code = \"# Best Predictions:\\nprint(best_predictions)\";\n                var nbb_formatted_code = \"# Best Predictions:\\nprint(best_predictions)\";\n                var nbb_cells = Jupyter.notebook.get_cells();\n                for (var i = 0; i < nbb_cells.length; ++i) {\n                    if (nbb_cells[i].input_prompt_number == nbb_cell_id) {\n                        if (nbb_cells[i].get_text() == nbb_unformatted_code) {\n                             nbb_cells[i].set_text(nbb_formatted_code);\n                        }\n                        break;\n                    }\n                }\n            }, 500);\n            ",
      "text/plain": [
       "<IPython.core.display.Javascript object>"
      ]
     },
     "metadata": {},
     "output_type": "display_data"
    }
   ],
   "source": [
    "# Best Predictions:\n",
    "print(best_predictions)"
   ]
  },
  {
   "cell_type": "code",
   "execution_count": 11,
   "metadata": {},
   "outputs": [
    {
     "name": "stdout",
     "output_type": "stream",
     "text": [
      "                    uid     iid   rui       est  \\\n",
      "226273       Mtnbeerman    1320  1.00  4.466261   \n",
      "114238          bmur112    3734  1.00  4.482400   \n",
      "217563  SteelCityHops89    5428  1.00  4.485264   \n",
      "36981        JackOGreen  118987  1.04  4.531219   \n",
      "215557         aliving1    1320  1.00  4.495263   \n",
      "179874         dogfish7     639  1.00  4.499617   \n",
      "746          Patlee3324   29015  1.00  4.509593   \n",
      "171643     tat2dhllblly    1320  1.00  4.539816   \n",
      "210135   captainbearcat      65  1.00  4.544256   \n",
      "91491    SinjaminBentek   35036  1.00  4.683507   \n",
      "\n",
      "                                          details   Iu    Ui       err  \n",
      "226273  {'actual_k': 30, 'was_impossible': False}   30  1178  3.466261  \n",
      "114238  {'actual_k': 40, 'was_impossible': False}  162   555  3.482400  \n",
      "217563  {'actual_k': 34, 'was_impossible': False}   34  1375  3.485264  \n",
      "36981   {'actual_k': 40, 'was_impossible': False}   46   377  3.491219  \n",
      "215557  {'actual_k': 40, 'was_impossible': False}   57  1178  3.495263  \n",
      "179874  {'actual_k': 18, 'was_impossible': False}   18  1085  3.499617  \n",
      "746     {'actual_k': 40, 'was_impossible': False}   99   523  3.509593  \n",
      "171643  {'actual_k': 35, 'was_impossible': False}   35  1178  3.539816  \n",
      "210135  {'actual_k': 40, 'was_impossible': False}  164  1213  3.544256  \n",
      "91491   {'actual_k': 40, 'was_impossible': False}  129  2043  3.683507  \n"
     ]
    },
    {
     "data": {
      "application/javascript": "\n            setTimeout(function() {\n                var nbb_cell_id = 11;\n                var nbb_unformatted_code = \"# Worst Predictions:\\nprint(worst_predictions)\";\n                var nbb_formatted_code = \"# Worst Predictions:\\nprint(worst_predictions)\";\n                var nbb_cells = Jupyter.notebook.get_cells();\n                for (var i = 0; i < nbb_cells.length; ++i) {\n                    if (nbb_cells[i].input_prompt_number == nbb_cell_id) {\n                        if (nbb_cells[i].get_text() == nbb_unformatted_code) {\n                             nbb_cells[i].set_text(nbb_formatted_code);\n                        }\n                        break;\n                    }\n                }\n            }, 500);\n            ",
      "text/plain": [
       "<IPython.core.display.Javascript object>"
      ]
     },
     "metadata": {},
     "output_type": "display_data"
    }
   ],
   "source": [
    "# Worst Predictions:\n",
    "print(worst_predictions)"
   ]
  },
  {
   "cell_type": "code",
   "execution_count": 12,
   "metadata": {},
   "outputs": [
    {
     "data": {
      "application/javascript": "\n            setTimeout(function() {\n                var nbb_cell_id = 12;\n                var nbb_unformatted_code = \"def get_beer_name (beer_raw_id):\\n    beer_name = beers_df.loc[beers_df.beer_id==beer_raw_id,'name'].values[0]\\n    return beer_name\\n\\ndef get_beer_style (beer_raw_id):\\n    beer_style = beers_df.loc[beers_df.beer_id==beer_raw_id,'style'].values[0]\\n    return beer_style\\n\\ndef get_beer_score_mean (beer_raw_id):\\n    score_mean = mean_score.loc[mean_score.beer_id==beer_raw_id,'score'].values[0]\\n    return score_mean\\n\\ndef get_beer_neighbors (beer_raw_id):\\n    beer_inner_id = algo.trainset.to_inner_iid(beer_raw_id)\\n    beer_neighbors = algo.get_neighbors(beer_inner_id, k=5)\\n    beer_neighbors = (algo.trainset.to_raw_iid(inner_id)\\n                  for inner_id in beer_neighbors)\\n    return(beer_neighbors)\\n\\ndef get_beer_recc_df (beer_raw_id):\\n    beer_inner_id = algo.trainset.to_inner_iid(beer_raw_id)\\n    beer_neighbors = algo.get_neighbors(beer_inner_id, k=10)\\n    beer_neighbors = (algo.trainset.to_raw_iid(inner_id)\\n                      for inner_id in beer_neighbors)\\n    beers_id_recc = []\\n    beer_name_recc =[]\\n    beer_style_recc = []\\n    beer_score_mean = []\\n    for beer in beer_neighbors:\\n        beers_id_recc.append(beer)\\n        beer_name_recc.append(get_beer_name(beer))\\n        beer_style_recc.append(get_beer_style(beer))\\n        beer_score_mean.append(get_beer_score_mean(beer))\\n    beer_reccomendations_df = pd.DataFrame(list(zip(beers_id_recc,beer_name_recc,beer_style_recc,beer_score_mean)),\\n                                       columns=['beer_id', 'name', 'style', 'score_mean'])\\n    return beer_reccomendations_df\\n    \\ndef get_inner_ids(riids):\\n    inner_ids = []\\n    for riid in riids:\\n        inner_ids.append(trainset.to_inner_iid(riid))\\n    return inner_ids\\n        \";\n                var nbb_formatted_code = \"def get_beer_name(beer_raw_id):\\n    beer_name = beers_df.loc[beers_df.beer_id == beer_raw_id, \\\"name\\\"].values[0]\\n    return beer_name\\n\\n\\ndef get_beer_style(beer_raw_id):\\n    beer_style = beers_df.loc[beers_df.beer_id == beer_raw_id, \\\"style\\\"].values[0]\\n    return beer_style\\n\\n\\ndef get_beer_score_mean(beer_raw_id):\\n    score_mean = mean_score.loc[mean_score.beer_id == beer_raw_id, \\\"score\\\"].values[0]\\n    return score_mean\\n\\n\\ndef get_beer_neighbors(beer_raw_id):\\n    beer_inner_id = algo.trainset.to_inner_iid(beer_raw_id)\\n    beer_neighbors = algo.get_neighbors(beer_inner_id, k=5)\\n    beer_neighbors = (algo.trainset.to_raw_iid(inner_id) for inner_id in beer_neighbors)\\n    return beer_neighbors\\n\\n\\ndef get_beer_recc_df(beer_raw_id):\\n    beer_inner_id = algo.trainset.to_inner_iid(beer_raw_id)\\n    beer_neighbors = algo.get_neighbors(beer_inner_id, k=10)\\n    beer_neighbors = (algo.trainset.to_raw_iid(inner_id) for inner_id in beer_neighbors)\\n    beers_id_recc = []\\n    beer_name_recc = []\\n    beer_style_recc = []\\n    beer_score_mean = []\\n    for beer in beer_neighbors:\\n        beers_id_recc.append(beer)\\n        beer_name_recc.append(get_beer_name(beer))\\n        beer_style_recc.append(get_beer_style(beer))\\n        beer_score_mean.append(get_beer_score_mean(beer))\\n    beer_reccomendations_df = pd.DataFrame(\\n        list(zip(beers_id_recc, beer_name_recc, beer_style_recc, beer_score_mean)),\\n        columns=[\\\"beer_id\\\", \\\"name\\\", \\\"style\\\", \\\"score_mean\\\"],\\n    )\\n    return beer_reccomendations_df\\n\\n\\ndef get_inner_ids(riids):\\n    inner_ids = []\\n    for riid in riids:\\n        inner_ids.append(trainset.to_inner_iid(riid))\\n    return inner_ids\";\n                var nbb_cells = Jupyter.notebook.get_cells();\n                for (var i = 0; i < nbb_cells.length; ++i) {\n                    if (nbb_cells[i].input_prompt_number == nbb_cell_id) {\n                        if (nbb_cells[i].get_text() == nbb_unformatted_code) {\n                             nbb_cells[i].set_text(nbb_formatted_code);\n                        }\n                        break;\n                    }\n                }\n            }, 500);\n            ",
      "text/plain": [
       "<IPython.core.display.Javascript object>"
      ]
     },
     "metadata": {},
     "output_type": "display_data"
    }
   ],
   "source": [
    "def get_beer_name (beer_raw_id):\n",
    "    beer_name = beers_df.loc[beers_df.beer_id==beer_raw_id,'name'].values[0]\n",
    "    return beer_name\n",
    "\n",
    "def get_beer_style (beer_raw_id):\n",
    "    beer_style = beers_df.loc[beers_df.beer_id==beer_raw_id,'style'].values[0]\n",
    "    return beer_style\n",
    "\n",
    "def get_beer_score_mean (beer_raw_id):\n",
    "    score_mean = mean_score.loc[mean_score.beer_id==beer_raw_id,'score'].values[0]\n",
    "    return score_mean\n",
    "\n",
    "def get_beer_neighbors (beer_raw_id):\n",
    "    beer_inner_id = algo.trainset.to_inner_iid(beer_raw_id)\n",
    "    beer_neighbors = algo.get_neighbors(beer_inner_id, k=5)\n",
    "    beer_neighbors = (algo.trainset.to_raw_iid(inner_id)\n",
    "                  for inner_id in beer_neighbors)\n",
    "    return(beer_neighbors)\n",
    "\n",
    "def get_beer_recc_df (beer_raw_id):\n",
    "    beer_inner_id = algo.trainset.to_inner_iid(beer_raw_id)\n",
    "    beer_neighbors = algo.get_neighbors(beer_inner_id, k=10)\n",
    "    beer_neighbors = (algo.trainset.to_raw_iid(inner_id)\n",
    "                      for inner_id in beer_neighbors)\n",
    "    beers_id_recc = []\n",
    "    beer_name_recc =[]\n",
    "    beer_style_recc = []\n",
    "    beer_score_mean = []\n",
    "    for beer in beer_neighbors:\n",
    "        beers_id_recc.append(beer)\n",
    "        beer_name_recc.append(get_beer_name(beer))\n",
    "        beer_style_recc.append(get_beer_style(beer))\n",
    "        beer_score_mean.append(get_beer_score_mean(beer))\n",
    "    beer_reccomendations_df = pd.DataFrame(list(zip(beers_id_recc,beer_name_recc,beer_style_recc,beer_score_mean)),\n",
    "                                       columns=['beer_id', 'name', 'style', 'score_mean'])\n",
    "    return beer_reccomendations_df\n",
    "    \n",
    "def get_inner_ids(riids):\n",
    "    inner_ids = []\n",
    "    for riid in riids:\n",
    "        inner_ids.append(trainset.to_inner_iid(riid))\n",
    "    return inner_ids\n",
    "        "
   ]
  },
  {
   "cell_type": "code",
   "execution_count": 13,
   "metadata": {},
   "outputs": [
    {
     "data": {
      "application/javascript": "\n            setTimeout(function() {\n                var nbb_cell_id = 13;\n                var nbb_unformatted_code = \"#Create mean score dataframe and get riids (riids = raw beers ids)\\nmean_score = merge_df.groupby('beer_id', as_index=False)[['score']].mean()\\nriids = mean_score['beer_id']\\nriids = riids.to_list()\\n#Get the beer inner ids\\ninner_ids = get_inner_ids(riids)\";\n                var nbb_formatted_code = \"# Create mean score dataframe and get riids (riids = raw beers ids)\\nmean_score = merge_df.groupby(\\\"beer_id\\\", as_index=False)[[\\\"score\\\"]].mean()\\nriids = mean_score[\\\"beer_id\\\"]\\nriids = riids.to_list()\\n# Get the beer inner ids\\ninner_ids = get_inner_ids(riids)\";\n                var nbb_cells = Jupyter.notebook.get_cells();\n                for (var i = 0; i < nbb_cells.length; ++i) {\n                    if (nbb_cells[i].input_prompt_number == nbb_cell_id) {\n                        if (nbb_cells[i].get_text() == nbb_unformatted_code) {\n                             nbb_cells[i].set_text(nbb_formatted_code);\n                        }\n                        break;\n                    }\n                }\n            }, 500);\n            ",
      "text/plain": [
       "<IPython.core.display.Javascript object>"
      ]
     },
     "metadata": {},
     "output_type": "display_data"
    }
   ],
   "source": [
    "#Create mean score dataframe and get riids (riids = raw beers ids)\n",
    "mean_score = merge_df.groupby('beer_id', as_index=False)[['score']].mean()\n",
    "riids = mean_score['beer_id']\n",
    "riids = riids.to_list()\n",
    "#Get the beer inner ids\n",
    "inner_ids = get_inner_ids(riids)"
   ]
  },
  {
   "cell_type": "code",
   "execution_count": 14,
   "metadata": {},
   "outputs": [
    {
     "data": {
      "application/javascript": "\n            setTimeout(function() {\n                var nbb_cell_id = 14;\n                var nbb_unformatted_code = \"# Save the df_predict and df_ids for later use\\ndf_predict.to_csv(\\\"../data/csv/df_predict_cosine_500.csv\\\",index=False)\\ndf_ids = pd.DataFrame(list(zip(riids,inner_ids)), columns=['beer_id', 'inner_ids'])\\ndf_ids.to_csv(\\\"../data/csv/df_ids_cosine_500.csv\\\",index=False)\";\n                var nbb_formatted_code = \"# Save the df_predict and df_ids for later use\\ndf_predict.to_csv(\\\"../data/csv/df_predict_cosine_500.csv\\\", index=False)\\ndf_ids = pd.DataFrame(list(zip(riids, inner_ids)), columns=[\\\"beer_id\\\", \\\"inner_ids\\\"])\\ndf_ids.to_csv(\\\"../data/csv/df_ids_cosine_500.csv\\\", index=False)\";\n                var nbb_cells = Jupyter.notebook.get_cells();\n                for (var i = 0; i < nbb_cells.length; ++i) {\n                    if (nbb_cells[i].input_prompt_number == nbb_cell_id) {\n                        if (nbb_cells[i].get_text() == nbb_unformatted_code) {\n                             nbb_cells[i].set_text(nbb_formatted_code);\n                        }\n                        break;\n                    }\n                }\n            }, 500);\n            ",
      "text/plain": [
       "<IPython.core.display.Javascript object>"
      ]
     },
     "metadata": {},
     "output_type": "display_data"
    }
   ],
   "source": [
    "# Save the df_predict and df_ids for later use\n",
    "df_predict.to_csv(\"../data/csv/df_predict_cosine_500.csv\",index=False)\n",
    "df_ids = pd.DataFrame(list(zip(riids,inner_ids)), columns=['beer_id', 'inner_ids'])\n",
    "df_ids.to_csv(\"../data/csv/df_ids_cosine_500.csv\",index=False)"
   ]
  }
 ],
 "metadata": {
  "kernelspec": {
   "display_name": "base",
   "language": "python",
   "name": "python3"
  },
  "language_info": {
   "codemirror_mode": {
    "name": "ipython",
    "version": 3
   },
   "file_extension": ".py",
   "mimetype": "text/x-python",
   "name": "python",
   "nbconvert_exporter": "python",
   "pygments_lexer": "ipython3",
   "version": "3.9.12"
  }
 },
 "nbformat": 4,
 "nbformat_minor": 2
}
